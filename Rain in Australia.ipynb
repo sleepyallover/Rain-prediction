{
 "cells": [
  {
   "cell_type": "markdown",
   "id": "69f82dfe-3231-4eac-bad8-f12393663e4b",
   "metadata": {},
   "source": [
    "## Rain Prediction in Australia"
   ]
  },
  {
   "cell_type": "markdown",
   "id": "46b99998-704e-45b9-8ec3-d486ccb28968",
   "metadata": {},
   "source": [
    "Predicting whether or not rain will occur tomorrow. Dataset acquired from kaggle (https://www.kaggle.com/jsphyg/weather-dataset-rattle-package?rvi=1)."
   ]
  },
  {
   "cell_type": "code",
   "execution_count": 1,
   "id": "92be8795-ba10-4a9f-83c9-1736551a343d",
   "metadata": {},
   "outputs": [],
   "source": [
    "import warnings\n",
    "warnings.filterwarnings('ignore')\n",
    "\n",
    "import pandas as pd\n",
    "import matplotlib.pyplot as plt\n",
    "import numpy as np\n",
    "import seaborn as sns"
   ]
  },
  {
   "cell_type": "code",
   "execution_count": 2,
   "id": "a4fb9df1-6728-454e-b848-c37265f95234",
   "metadata": {},
   "outputs": [],
   "source": [
    "from matplotlib import rcParams\n",
    "\n",
    "rcParams['figure.figsize'] = 12, 4\n",
    "rcParams['lines.linewidth'] = 3\n",
    "rcParams['xtick.labelsize'] = 'x-large'\n",
    "rcParams['ytick.labelsize'] = 'x-large'"
   ]
  },
  {
   "cell_type": "code",
   "execution_count": 3,
   "id": "ca94741b-71dd-40d6-803d-6f9599fc26a8",
   "metadata": {},
   "outputs": [],
   "source": [
    "df=pd.read_csv('weatherAUS.csv')"
   ]
  },
  {
   "cell_type": "code",
   "execution_count": 4,
   "id": "c246f035-0656-4d35-bebf-c622ac74769f",
   "metadata": {},
   "outputs": [
    {
     "data": {
      "text/html": [
       "<div>\n",
       "<style scoped>\n",
       "    .dataframe tbody tr th:only-of-type {\n",
       "        vertical-align: middle;\n",
       "    }\n",
       "\n",
       "    .dataframe tbody tr th {\n",
       "        vertical-align: top;\n",
       "    }\n",
       "\n",
       "    .dataframe thead th {\n",
       "        text-align: right;\n",
       "    }\n",
       "</style>\n",
       "<table border=\"1\" class=\"dataframe\">\n",
       "  <thead>\n",
       "    <tr style=\"text-align: right;\">\n",
       "      <th></th>\n",
       "      <th>Date</th>\n",
       "      <th>Location</th>\n",
       "      <th>MinTemp</th>\n",
       "      <th>MaxTemp</th>\n",
       "      <th>Rainfall</th>\n",
       "      <th>Evaporation</th>\n",
       "      <th>Sunshine</th>\n",
       "      <th>WindGustDir</th>\n",
       "      <th>WindGustSpeed</th>\n",
       "      <th>WindDir9am</th>\n",
       "      <th>...</th>\n",
       "      <th>Humidity9am</th>\n",
       "      <th>Humidity3pm</th>\n",
       "      <th>Pressure9am</th>\n",
       "      <th>Pressure3pm</th>\n",
       "      <th>Cloud9am</th>\n",
       "      <th>Cloud3pm</th>\n",
       "      <th>Temp9am</th>\n",
       "      <th>Temp3pm</th>\n",
       "      <th>RainToday</th>\n",
       "      <th>RainTomorrow</th>\n",
       "    </tr>\n",
       "  </thead>\n",
       "  <tbody>\n",
       "    <tr>\n",
       "      <th>0</th>\n",
       "      <td>2008-12-01</td>\n",
       "      <td>Albury</td>\n",
       "      <td>13.4</td>\n",
       "      <td>22.9</td>\n",
       "      <td>0.6</td>\n",
       "      <td>NaN</td>\n",
       "      <td>NaN</td>\n",
       "      <td>W</td>\n",
       "      <td>44.0</td>\n",
       "      <td>W</td>\n",
       "      <td>...</td>\n",
       "      <td>71.0</td>\n",
       "      <td>22.0</td>\n",
       "      <td>1007.7</td>\n",
       "      <td>1007.1</td>\n",
       "      <td>8.0</td>\n",
       "      <td>NaN</td>\n",
       "      <td>16.9</td>\n",
       "      <td>21.8</td>\n",
       "      <td>No</td>\n",
       "      <td>No</td>\n",
       "    </tr>\n",
       "    <tr>\n",
       "      <th>1</th>\n",
       "      <td>2008-12-02</td>\n",
       "      <td>Albury</td>\n",
       "      <td>7.4</td>\n",
       "      <td>25.1</td>\n",
       "      <td>0.0</td>\n",
       "      <td>NaN</td>\n",
       "      <td>NaN</td>\n",
       "      <td>WNW</td>\n",
       "      <td>44.0</td>\n",
       "      <td>NNW</td>\n",
       "      <td>...</td>\n",
       "      <td>44.0</td>\n",
       "      <td>25.0</td>\n",
       "      <td>1010.6</td>\n",
       "      <td>1007.8</td>\n",
       "      <td>NaN</td>\n",
       "      <td>NaN</td>\n",
       "      <td>17.2</td>\n",
       "      <td>24.3</td>\n",
       "      <td>No</td>\n",
       "      <td>No</td>\n",
       "    </tr>\n",
       "    <tr>\n",
       "      <th>2</th>\n",
       "      <td>2008-12-03</td>\n",
       "      <td>Albury</td>\n",
       "      <td>12.9</td>\n",
       "      <td>25.7</td>\n",
       "      <td>0.0</td>\n",
       "      <td>NaN</td>\n",
       "      <td>NaN</td>\n",
       "      <td>WSW</td>\n",
       "      <td>46.0</td>\n",
       "      <td>W</td>\n",
       "      <td>...</td>\n",
       "      <td>38.0</td>\n",
       "      <td>30.0</td>\n",
       "      <td>1007.6</td>\n",
       "      <td>1008.7</td>\n",
       "      <td>NaN</td>\n",
       "      <td>2.0</td>\n",
       "      <td>21.0</td>\n",
       "      <td>23.2</td>\n",
       "      <td>No</td>\n",
       "      <td>No</td>\n",
       "    </tr>\n",
       "    <tr>\n",
       "      <th>3</th>\n",
       "      <td>2008-12-04</td>\n",
       "      <td>Albury</td>\n",
       "      <td>9.2</td>\n",
       "      <td>28.0</td>\n",
       "      <td>0.0</td>\n",
       "      <td>NaN</td>\n",
       "      <td>NaN</td>\n",
       "      <td>NE</td>\n",
       "      <td>24.0</td>\n",
       "      <td>SE</td>\n",
       "      <td>...</td>\n",
       "      <td>45.0</td>\n",
       "      <td>16.0</td>\n",
       "      <td>1017.6</td>\n",
       "      <td>1012.8</td>\n",
       "      <td>NaN</td>\n",
       "      <td>NaN</td>\n",
       "      <td>18.1</td>\n",
       "      <td>26.5</td>\n",
       "      <td>No</td>\n",
       "      <td>No</td>\n",
       "    </tr>\n",
       "    <tr>\n",
       "      <th>4</th>\n",
       "      <td>2008-12-05</td>\n",
       "      <td>Albury</td>\n",
       "      <td>17.5</td>\n",
       "      <td>32.3</td>\n",
       "      <td>1.0</td>\n",
       "      <td>NaN</td>\n",
       "      <td>NaN</td>\n",
       "      <td>W</td>\n",
       "      <td>41.0</td>\n",
       "      <td>ENE</td>\n",
       "      <td>...</td>\n",
       "      <td>82.0</td>\n",
       "      <td>33.0</td>\n",
       "      <td>1010.8</td>\n",
       "      <td>1006.0</td>\n",
       "      <td>7.0</td>\n",
       "      <td>8.0</td>\n",
       "      <td>17.8</td>\n",
       "      <td>29.7</td>\n",
       "      <td>No</td>\n",
       "      <td>No</td>\n",
       "    </tr>\n",
       "  </tbody>\n",
       "</table>\n",
       "<p>5 rows × 23 columns</p>\n",
       "</div>"
      ],
      "text/plain": [
       "         Date Location  MinTemp  MaxTemp  Rainfall  Evaporation  Sunshine  \\\n",
       "0  2008-12-01   Albury     13.4     22.9       0.6          NaN       NaN   \n",
       "1  2008-12-02   Albury      7.4     25.1       0.0          NaN       NaN   \n",
       "2  2008-12-03   Albury     12.9     25.7       0.0          NaN       NaN   \n",
       "3  2008-12-04   Albury      9.2     28.0       0.0          NaN       NaN   \n",
       "4  2008-12-05   Albury     17.5     32.3       1.0          NaN       NaN   \n",
       "\n",
       "  WindGustDir  WindGustSpeed WindDir9am  ... Humidity9am  Humidity3pm  \\\n",
       "0           W           44.0          W  ...        71.0         22.0   \n",
       "1         WNW           44.0        NNW  ...        44.0         25.0   \n",
       "2         WSW           46.0          W  ...        38.0         30.0   \n",
       "3          NE           24.0         SE  ...        45.0         16.0   \n",
       "4           W           41.0        ENE  ...        82.0         33.0   \n",
       "\n",
       "   Pressure9am  Pressure3pm  Cloud9am  Cloud3pm  Temp9am  Temp3pm  RainToday  \\\n",
       "0       1007.7       1007.1       8.0       NaN     16.9     21.8         No   \n",
       "1       1010.6       1007.8       NaN       NaN     17.2     24.3         No   \n",
       "2       1007.6       1008.7       NaN       2.0     21.0     23.2         No   \n",
       "3       1017.6       1012.8       NaN       NaN     18.1     26.5         No   \n",
       "4       1010.8       1006.0       7.0       8.0     17.8     29.7         No   \n",
       "\n",
       "   RainTomorrow  \n",
       "0            No  \n",
       "1            No  \n",
       "2            No  \n",
       "3            No  \n",
       "4            No  \n",
       "\n",
       "[5 rows x 23 columns]"
      ]
     },
     "execution_count": 4,
     "metadata": {},
     "output_type": "execute_result"
    }
   ],
   "source": [
    "df.head()"
   ]
  },
  {
   "cell_type": "code",
   "execution_count": 5,
   "id": "d8ec74e2-b353-4c40-8a32-f59dac626879",
   "metadata": {},
   "outputs": [
    {
     "name": "stdout",
     "output_type": "stream",
     "text": [
      "<class 'pandas.core.frame.DataFrame'>\n",
      "RangeIndex: 145460 entries, 0 to 145459\n",
      "Data columns (total 23 columns):\n",
      " #   Column         Non-Null Count   Dtype  \n",
      "---  ------         --------------   -----  \n",
      " 0   Date           145460 non-null  object \n",
      " 1   Location       145460 non-null  object \n",
      " 2   MinTemp        143975 non-null  float64\n",
      " 3   MaxTemp        144199 non-null  float64\n",
      " 4   Rainfall       142199 non-null  float64\n",
      " 5   Evaporation    82670 non-null   float64\n",
      " 6   Sunshine       75625 non-null   float64\n",
      " 7   WindGustDir    135134 non-null  object \n",
      " 8   WindGustSpeed  135197 non-null  float64\n",
      " 9   WindDir9am     134894 non-null  object \n",
      " 10  WindDir3pm     141232 non-null  object \n",
      " 11  WindSpeed9am   143693 non-null  float64\n",
      " 12  WindSpeed3pm   142398 non-null  float64\n",
      " 13  Humidity9am    142806 non-null  float64\n",
      " 14  Humidity3pm    140953 non-null  float64\n",
      " 15  Pressure9am    130395 non-null  float64\n",
      " 16  Pressure3pm    130432 non-null  float64\n",
      " 17  Cloud9am       89572 non-null   float64\n",
      " 18  Cloud3pm       86102 non-null   float64\n",
      " 19  Temp9am        143693 non-null  float64\n",
      " 20  Temp3pm        141851 non-null  float64\n",
      " 21  RainToday      142199 non-null  object \n",
      " 22  RainTomorrow   142193 non-null  object \n",
      "dtypes: float64(16), object(7)\n",
      "memory usage: 25.5+ MB\n"
     ]
    }
   ],
   "source": [
    "df.info()"
   ]
  },
  {
   "cell_type": "code",
   "execution_count": 6,
   "id": "2df1b960-1cd8-435d-b9ec-4d7e9c77c6aa",
   "metadata": {},
   "outputs": [
    {
     "data": {
      "text/plain": [
       "(145460, 23)"
      ]
     },
     "execution_count": 6,
     "metadata": {},
     "output_type": "execute_result"
    }
   ],
   "source": [
    "df.shape"
   ]
  },
  {
   "cell_type": "markdown",
   "id": "72676c06-088e-4529-bfe1-c290c09b0574",
   "metadata": {
    "tags": []
   },
   "source": [
    "## Data Preprocessing"
   ]
  },
  {
   "cell_type": "markdown",
   "id": "fa803960-9179-4429-85d3-b9ad3e699c41",
   "metadata": {},
   "source": [
    "### Missing Values"
   ]
  },
  {
   "cell_type": "code",
   "execution_count": 7,
   "id": "73e62e96-198c-453b-9467-de8b0dcc3976",
   "metadata": {},
   "outputs": [
    {
     "data": {
      "text/plain": [
       "<AxesSubplot:>"
      ]
     },
     "execution_count": 7,
     "metadata": {},
     "output_type": "execute_result"
    },
    {
     "data": {
      "image/png": "[encoded data removed]",
      "text/plain": [
       "<Figure size 720x504 with 2 Axes>"
      ]
     },
     "metadata": {
      "needs_background": "light"
     },
     "output_type": "display_data"
    }
   ],
   "source": [
    "plt.figure(figsize=(10,7))\n",
    "sns.heatmap(df.isna(), cmap='cividis')"
   ]
  },
  {
   "cell_type": "code",
   "execution_count": 8,
   "id": "fea5932d-074f-4f95-9446-6cb52bad3a8f",
   "metadata": {},
   "outputs": [],
   "source": [
    "cols=df.columns"
   ]
  },
  {
   "cell_type": "code",
   "execution_count": 9,
   "id": "b39f38a4-3831-4804-b654-702f48de0ef6",
   "metadata": {},
   "outputs": [],
   "source": [
    "def misval_perc(df, cols):\n",
    "    for i in cols:\n",
    "        print('Missing values in {} : {}%'.format(i,round(((df[i].isna().sum()*100)/df.shape[0]),2)))"
   ]
  },
  {
   "cell_type": "code",
   "execution_count": 10,
   "id": "fd5e119b-903f-4a2c-b62f-1642f47c48a8",
   "metadata": {},
   "outputs": [
    {
     "name": "stdout",
     "output_type": "stream",
     "text": [
      "Missing Values Percentage each columns \n",
      "\n",
      "Missing values in Date : 0.0%\n",
      "Missing values in Location : 0.0%\n",
      "Missing values in MinTemp : 1.02%\n",
      "Missing values in MaxTemp : 0.87%\n",
      "Missing values in Rainfall : 2.24%\n",
      "Missing values in Evaporation : 43.17%\n",
      "Missing values in Sunshine : 48.01%\n",
      "Missing values in WindGustDir : 7.1%\n",
      "Missing values in WindGustSpeed : 7.06%\n",
      "Missing values in WindDir9am : 7.26%\n",
      "Missing values in WindDir3pm : 2.91%\n",
      "Missing values in WindSpeed9am : 1.21%\n",
      "Missing values in WindSpeed3pm : 2.11%\n",
      "Missing values in Humidity9am : 1.82%\n",
      "Missing values in Humidity3pm : 3.1%\n",
      "Missing values in Pressure9am : 10.36%\n",
      "Missing values in Pressure3pm : 10.33%\n",
      "Missing values in Cloud9am : 38.42%\n",
      "Missing values in Cloud3pm : 40.81%\n",
      "Missing values in Temp9am : 1.21%\n",
      "Missing values in Temp3pm : 2.48%\n",
      "Missing values in RainToday : 2.24%\n",
      "Missing values in RainTomorrow : 2.25%\n"
     ]
    }
   ],
   "source": [
    "print('Missing Values Percentage each columns \\n')\n",
    "misval_perc(df,cols)"
   ]
  },
  {
   "cell_type": "markdown",
   "id": "ef9fb1fc-ef4c-4b56-a16f-ae0d89036468",
   "metadata": {},
   "source": [
    "We have a lot of missing columns in Evaporation, Sunshine, Cloud9am, and Cloud3pm columns. The missing value percentages in these columns are too high, so these columns might not give us any useful information. We probably would have to drop them."
   ]
  },
  {
   "cell_type": "code",
   "execution_count": 11,
   "id": "5a4d089b-3350-49b0-832b-5adf84c4d033",
   "metadata": {},
   "outputs": [],
   "source": [
    "df2=df.drop(['Evaporation','Sunshine','Cloud9am','Cloud3pm'], axis=1)"
   ]
  },
  {
   "cell_type": "code",
   "execution_count": 12,
   "id": "40219e67-ff44-4f1e-ae19-fe700d56be35",
   "metadata": {},
   "outputs": [
    {
     "data": {
      "text/plain": [
       "(145460, 19)"
      ]
     },
     "execution_count": 12,
     "metadata": {},
     "output_type": "execute_result"
    }
   ],
   "source": [
    "df2.shape"
   ]
  },
  {
   "cell_type": "markdown",
   "id": "6594f136-9c20-4582-9a94-0de54d89a722",
   "metadata": {},
   "source": [
    "For the missing values in the other columns, we are going to impute them with median."
   ]
  },
  {
   "cell_type": "code",
   "execution_count": 13,
   "id": "a141e1d5-392d-4215-a25d-b43d4502f03a",
   "metadata": {},
   "outputs": [],
   "source": [
    "df2.fillna(df2.median(), inplace=True)"
   ]
  },
  {
   "cell_type": "code",
   "execution_count": 14,
   "id": "b0ba3956-e9b7-40db-a914-d112ce5c9cb7",
   "metadata": {},
   "outputs": [
    {
     "data": {
      "text/plain": [
       "Date                 0\n",
       "Location             0\n",
       "MinTemp              0\n",
       "MaxTemp              0\n",
       "Rainfall             0\n",
       "WindGustDir      10326\n",
       "WindGustSpeed        0\n",
       "WindDir9am       10566\n",
       "WindDir3pm        4228\n",
       "WindSpeed9am         0\n",
       "WindSpeed3pm         0\n",
       "Humidity9am          0\n",
       "Humidity3pm          0\n",
       "Pressure9am          0\n",
       "Pressure3pm          0\n",
       "Temp9am              0\n",
       "Temp3pm              0\n",
       "RainToday         3261\n",
       "RainTomorrow      3267\n",
       "dtype: int64"
      ]
     },
     "execution_count": 14,
     "metadata": {},
     "output_type": "execute_result"
    }
   ],
   "source": [
    "df2.isnull().sum()"
   ]
  },
  {
   "cell_type": "markdown",
   "id": "923c5b91-a033-4ddf-a3d0-1591da8d2fd9",
   "metadata": {},
   "source": [
    "There are still missing values in some categorical data. We're going to impute them with mode."
   ]
  },
  {
   "cell_type": "code",
   "execution_count": 15,
   "id": "2854e88e-3f11-4059-a29c-0599c085d27b",
   "metadata": {},
   "outputs": [],
   "source": [
    "miss=['WindGustDir','WindDir9am','WindDir3pm','RainToday']"
   ]
  },
  {
   "cell_type": "code",
   "execution_count": 16,
   "id": "648d2de4-a460-4566-b657-44d0efb4c6fe",
   "metadata": {},
   "outputs": [],
   "source": [
    "def misval(df, col):\n",
    "    for i in col:\n",
    "        df[i].fillna(df[i].mode()[0], inplace=True)"
   ]
  },
  {
   "cell_type": "code",
   "execution_count": 17,
   "id": "5a23c346-2746-455a-9b05-571d87643f76",
   "metadata": {},
   "outputs": [],
   "source": [
    "misval(df2, miss)"
   ]
  },
  {
   "cell_type": "code",
   "execution_count": 18,
   "id": "10248224-0dc6-43d7-bb2e-913c5657a3ee",
   "metadata": {},
   "outputs": [
    {
     "data": {
      "text/plain": [
       "Date                0\n",
       "Location            0\n",
       "MinTemp             0\n",
       "MaxTemp             0\n",
       "Rainfall            0\n",
       "WindGustDir         0\n",
       "WindGustSpeed       0\n",
       "WindDir9am          0\n",
       "WindDir3pm          0\n",
       "WindSpeed9am        0\n",
       "WindSpeed3pm        0\n",
       "Humidity9am         0\n",
       "Humidity3pm         0\n",
       "Pressure9am         0\n",
       "Pressure3pm         0\n",
       "Temp9am             0\n",
       "Temp3pm             0\n",
       "RainToday           0\n",
       "RainTomorrow     3267\n",
       "dtype: int64"
      ]
     },
     "execution_count": 18,
     "metadata": {},
     "output_type": "execute_result"
    }
   ],
   "source": [
    "df2.isna().sum()"
   ]
  },
  {
   "cell_type": "code",
   "execution_count": 19,
   "id": "1f165086-d236-4ce5-815a-87c2938971bd",
   "metadata": {},
   "outputs": [
    {
     "data": {
      "text/plain": [
       "(145460, 19)"
      ]
     },
     "execution_count": 19,
     "metadata": {},
     "output_type": "execute_result"
    }
   ],
   "source": [
    "df2.shape"
   ]
  },
  {
   "cell_type": "markdown",
   "id": "7351136e-228c-4262-bb63-ad8ad81d3add",
   "metadata": {},
   "source": [
    "Notice that there are still some missing values in the target column. For this case, we're going to drop it."
   ]
  },
  {
   "cell_type": "code",
   "execution_count": 20,
   "id": "8d4b50a0-5e3b-462d-a291-5a5266083b14",
   "metadata": {},
   "outputs": [],
   "source": [
    "df2.dropna(inplace=True)"
   ]
  },
  {
   "cell_type": "code",
   "execution_count": 21,
   "id": "b60a245c-163e-4d67-bf3a-0074880db969",
   "metadata": {},
   "outputs": [
    {
     "data": {
      "text/plain": [
       "(142193, 19)"
      ]
     },
     "execution_count": 21,
     "metadata": {},
     "output_type": "execute_result"
    }
   ],
   "source": [
    "df2.shape"
   ]
  },
  {
   "cell_type": "markdown",
   "id": "711eba83-bd52-4ed6-9998-b596c3c854a0",
   "metadata": {},
   "source": [
    "### Check for Duplicates"
   ]
  },
  {
   "cell_type": "code",
   "execution_count": 22,
   "id": "5af6d649-9ad2-4a73-8383-b78234b3108b",
   "metadata": {},
   "outputs": [
    {
     "data": {
      "text/plain": [
       "0"
      ]
     },
     "execution_count": 22,
     "metadata": {},
     "output_type": "execute_result"
    }
   ],
   "source": [
    "df2.duplicated().sum()"
   ]
  },
  {
   "cell_type": "markdown",
   "id": "4020cf68-a939-453a-86ff-16c77c98d7b2",
   "metadata": {},
   "source": [
    "There is no duplicated data."
   ]
  },
  {
   "cell_type": "markdown",
   "id": "f2b6fc6f-dac2-4f65-afd2-fcc110e2b460",
   "metadata": {},
   "source": [
    "Separating the numerical columns."
   ]
  },
  {
   "cell_type": "code",
   "execution_count": 23,
   "id": "ccdf6b94-7ec2-484f-a7a6-da0211c7b700",
   "metadata": {},
   "outputs": [],
   "source": [
    "cats=list(df2.select_dtypes('object').columns)\n",
    "nums=list(df2.select_dtypes('number').columns)\n",
    "cats.remove('RainTomorrow')"
   ]
  },
  {
   "cell_type": "code",
   "execution_count": 24,
   "id": "7331685e-8c3b-4305-8f98-d33e7e17e7d0",
   "metadata": {},
   "outputs": [
    {
     "data": {
      "text/plain": [
       "12"
      ]
     },
     "execution_count": 24,
     "metadata": {},
     "output_type": "execute_result"
    }
   ],
   "source": [
    "len(nums)"
   ]
  },
  {
   "cell_type": "markdown",
   "id": "26a59d3c-3ea6-42d7-a665-a0389a9bcc5c",
   "metadata": {},
   "source": [
    "### Handling the Outliers"
   ]
  },
  {
   "cell_type": "markdown",
   "id": "3dc59a11-0f14-415f-82d3-9f7c8820db39",
   "metadata": {},
   "source": [
    "Now we're gonna check the outliers in the features."
   ]
  },
  {
   "cell_type": "code",
   "execution_count": 25,
   "id": "80dac8ce-ea9f-48cf-b9dc-0abc4da57ab1",
   "metadata": {},
   "outputs": [
    {
     "data": {
      "image/png": "[encoded data removed]",
      "text/plain": [
       "<Figure size 864x576 with 12 Axes>"
      ]
     },
     "metadata": {
      "needs_background": "light"
     },
     "output_type": "display_data"
    }
   ],
   "source": [
    "plt.figure(figsize=(12,8))\n",
    "for i in range(0, len(nums)):\n",
    "    plt.subplot(2, len(nums)/2, i+1)\n",
    "    sns.boxplot(y=df2[nums[i]], color='red', orient='v')\n",
    "    plt.tight_layout()"
   ]
  },
  {
   "cell_type": "markdown",
   "id": "37b8f48a-9729-433c-81bb-b44df5b49ba0",
   "metadata": {},
   "source": [
    "Notice that we have significant outliers in the features. What we're gonna do is replace those outliers with its upper/lower fence using IQR method."
   ]
  },
  {
   "cell_type": "code",
   "execution_count": 26,
   "id": "f1ca4d89-5f69-45c6-bee9-0191cc480911",
   "metadata": {},
   "outputs": [
    {
     "name": "stdout",
     "output_type": "stream",
     "text": [
      "Row number before replacing outliers: 142193\n",
      "Row number after replacing outliers: 142193\n"
     ]
    }
   ],
   "source": [
    "print(f'Row number before replacing outliers: {len(df2)}')\n",
    "\n",
    "filtered_entries = np.array([True] * len(df))\n",
    "for col in nums:\n",
    "    Q1 = df2[col].quantile(0.25)\n",
    "    Q3 = df2[col].quantile(0.75)\n",
    "    IQR = Q3 - Q1\n",
    "    low_limit = Q1 - (IQR * 1.5)\n",
    "    high_limit = Q3 + (IQR * 1.5)\n",
    "\n",
    " # Filtering outlier & replace with upper_bound or lower_bound karena outliers > 27,5%\n",
    "    df2[col] = np.where(df2[col] >= high_limit,\n",
    "                         high_limit, df2[col])\n",
    "    df2[col] = np.where(df2[col] <= low_limit,\n",
    "                         low_limit, df2[col])\n",
    "\n",
    "print(f'Row number after replacing outliers: {len(df2)}')"
   ]
  },
  {
   "cell_type": "markdown",
   "id": "dd55249c-4fda-4547-b931-da8e7000381d",
   "metadata": {},
   "source": [
    "The row number is still the same meaning we do not lose any data."
   ]
  },
  {
   "cell_type": "markdown",
   "id": "a6285e98-8f45-4004-942e-ef8ee4f43e39",
   "metadata": {},
   "source": [
    "The distributions of the numerical features after replacing outliers are as follows."
   ]
  },
  {
   "cell_type": "code",
   "execution_count": 27,
   "id": "13422f5c-285d-4964-b7e5-cd34c25902ae",
   "metadata": {},
   "outputs": [
    {
     "data": {
      "image/png": "[encoded data removed]",
      "text/plain": [
       "<Figure size 864x576 with 12 Axes>"
      ]
     },
     "metadata": {
      "needs_background": "light"
     },
     "output_type": "display_data"
    }
   ],
   "source": [
    "plt.figure(figsize=(12,8))\n",
    "for i in range(0, len(nums)):\n",
    "    plt.subplot(2, len(nums)/2, i+1)\n",
    "    sns.boxplot(y=df2[nums[i]], color='red', orient='v')\n",
    "    plt.tight_layout()"
   ]
  },
  {
   "cell_type": "markdown",
   "id": "daf6a83b-6dde-4016-830d-0cb307ee6ed0",
   "metadata": {},
   "source": [
    "We can see that we no longer have outliers in our features."
   ]
  },
  {
   "cell_type": "markdown",
   "id": "baddf3f6-16b6-471d-a8f1-6e2f1240aa80",
   "metadata": {},
   "source": [
    "### Normalization/Standardization"
   ]
  },
  {
   "cell_type": "markdown",
   "id": "e635f666-d118-48b1-8eca-6aa1eff544bf",
   "metadata": {},
   "source": [
    "For this case, we're going to normalize the 'Rainfall' column and standardize the remaining columns."
   ]
  },
  {
   "cell_type": "code",
   "execution_count": 28,
   "id": "15a3a8fb-738e-4ab6-9807-c09039cc66e7",
   "metadata": {},
   "outputs": [],
   "source": [
    "from sklearn.preprocessing import MinMaxScaler, StandardScaler"
   ]
  },
  {
   "cell_type": "code",
   "execution_count": 29,
   "id": "81f294b5-d9a3-4a00-9210-9641e432723d",
   "metadata": {},
   "outputs": [],
   "source": [
    "for i in nums:\n",
    "    if i =='Rainfall':\n",
    "        df2[i]=MinMaxScaler().fit_transform(df2[i].values.reshape(len(df2), 1))\n",
    "    else:\n",
    "        df2[i]=StandardScaler().fit_transform(df2[i].values.reshape(len(df2), 1))"
   ]
  },
  {
   "cell_type": "code",
   "execution_count": 30,
   "id": "7b7ee49e-3327-4eba-9982-b023c73232d1",
   "metadata": {},
   "outputs": [
    {
     "data": {
      "image/png": "[encoded data removed]",
      "text/plain": [
       "<Figure size 864x576 with 12 Axes>"
      ]
     },
     "metadata": {
      "needs_background": "light"
     },
     "output_type": "display_data"
    }
   ],
   "source": [
    "plt.figure(figsize=(12,8))\n",
    "for i in range(0, len(nums)):\n",
    "    plt.subplot(2, len(nums)/2, i+1)\n",
    "    sns.boxplot(y=df2[nums[i]], color='red', orient='v')\n",
    "    plt.tight_layout()"
   ]
  },
  {
   "cell_type": "markdown",
   "id": "ae2c3c8f-3c97-40ee-9e92-6a19b99142c4",
   "metadata": {},
   "source": [
    "### Feature Engineering"
   ]
  },
  {
   "cell_type": "code",
   "execution_count": 31,
   "id": "c18d16d3-ef70-4662-bd5a-7157842b6eb9",
   "metadata": {},
   "outputs": [
    {
     "data": {
      "text/html": [
       "<div>\n",
       "<style scoped>\n",
       "    .dataframe tbody tr th:only-of-type {\n",
       "        vertical-align: middle;\n",
       "    }\n",
       "\n",
       "    .dataframe tbody tr th {\n",
       "        vertical-align: top;\n",
       "    }\n",
       "\n",
       "    .dataframe thead th {\n",
       "        text-align: right;\n",
       "    }\n",
       "</style>\n",
       "<table border=\"1\" class=\"dataframe\">\n",
       "  <thead>\n",
       "    <tr style=\"text-align: right;\">\n",
       "      <th></th>\n",
       "      <th>Date</th>\n",
       "      <th>Location</th>\n",
       "      <th>MinTemp</th>\n",
       "      <th>MaxTemp</th>\n",
       "      <th>Rainfall</th>\n",
       "      <th>WindGustDir</th>\n",
       "      <th>WindGustSpeed</th>\n",
       "      <th>WindDir9am</th>\n",
       "      <th>WindDir3pm</th>\n",
       "      <th>WindSpeed9am</th>\n",
       "      <th>WindSpeed3pm</th>\n",
       "      <th>Humidity9am</th>\n",
       "      <th>Humidity3pm</th>\n",
       "      <th>Pressure9am</th>\n",
       "      <th>Pressure3pm</th>\n",
       "      <th>Temp9am</th>\n",
       "      <th>Temp3pm</th>\n",
       "      <th>RainToday</th>\n",
       "      <th>RainTomorrow</th>\n",
       "    </tr>\n",
       "  </thead>\n",
       "  <tbody>\n",
       "    <tr>\n",
       "      <th>0</th>\n",
       "      <td>2008-12-01</td>\n",
       "      <td>Albury</td>\n",
       "      <td>0.190084</td>\n",
       "      <td>-0.046323</td>\n",
       "      <td>0.400000</td>\n",
       "      <td>W</td>\n",
       "      <td>0.360385</td>\n",
       "      <td>W</td>\n",
       "      <td>WNW</td>\n",
       "      <td>0.712937</td>\n",
       "      <td>0.644267</td>\n",
       "      <td>0.111240</td>\n",
       "      <td>-1.436563</td>\n",
       "      <td>-1.514865</td>\n",
       "      <td>-1.246471</td>\n",
       "      <td>-0.013404</td>\n",
       "      <td>0.017781</td>\n",
       "      <td>No</td>\n",
       "      <td>No</td>\n",
       "    </tr>\n",
       "    <tr>\n",
       "      <th>1</th>\n",
       "      <td>2008-12-02</td>\n",
       "      <td>Albury</td>\n",
       "      <td>-0.749182</td>\n",
       "      <td>0.263885</td>\n",
       "      <td>0.000000</td>\n",
       "      <td>WNW</td>\n",
       "      <td>0.360385</td>\n",
       "      <td>NNW</td>\n",
       "      <td>WSW</td>\n",
       "      <td>-1.158097</td>\n",
       "      <td>0.407503</td>\n",
       "      <td>-1.326534</td>\n",
       "      <td>-1.290451</td>\n",
       "      <td>-1.074479</td>\n",
       "      <td>-1.139674</td>\n",
       "      <td>0.033005</td>\n",
       "      <td>0.383367</td>\n",
       "      <td>No</td>\n",
       "      <td>No</td>\n",
       "    </tr>\n",
       "    <tr>\n",
       "      <th>2</th>\n",
       "      <td>2008-12-03</td>\n",
       "      <td>Albury</td>\n",
       "      <td>0.111812</td>\n",
       "      <td>0.348487</td>\n",
       "      <td>0.000000</td>\n",
       "      <td>WSW</td>\n",
       "      <td>0.524300</td>\n",
       "      <td>W</td>\n",
       "      <td>WSW</td>\n",
       "      <td>0.595997</td>\n",
       "      <td>0.881031</td>\n",
       "      <td>-1.646039</td>\n",
       "      <td>-1.046931</td>\n",
       "      <td>-1.530050</td>\n",
       "      <td>-1.002364</td>\n",
       "      <td>0.620859</td>\n",
       "      <td>0.222509</td>\n",
       "      <td>No</td>\n",
       "      <td>No</td>\n",
       "    </tr>\n",
       "    <tr>\n",
       "      <th>3</th>\n",
       "      <td>2008-12-04</td>\n",
       "      <td>Albury</td>\n",
       "      <td>-0.467402</td>\n",
       "      <td>0.672795</td>\n",
       "      <td>0.000000</td>\n",
       "      <td>NE</td>\n",
       "      <td>-1.278766</td>\n",
       "      <td>SE</td>\n",
       "      <td>E</td>\n",
       "      <td>-0.339520</td>\n",
       "      <td>-1.131460</td>\n",
       "      <td>-1.273283</td>\n",
       "      <td>-1.728788</td>\n",
       "      <td>-0.011479</td>\n",
       "      <td>-0.376839</td>\n",
       "      <td>0.172234</td>\n",
       "      <td>0.705083</td>\n",
       "      <td>No</td>\n",
       "      <td>No</td>\n",
       "    </tr>\n",
       "    <tr>\n",
       "      <th>4</th>\n",
       "      <td>2008-12-05</td>\n",
       "      <td>Albury</td>\n",
       "      <td>0.831916</td>\n",
       "      <td>1.279110</td>\n",
       "      <td>0.666667</td>\n",
       "      <td>W</td>\n",
       "      <td>0.114512</td>\n",
       "      <td>ENE</td>\n",
       "      <td>NW</td>\n",
       "      <td>-0.807278</td>\n",
       "      <td>0.170740</td>\n",
       "      <td>0.697000</td>\n",
       "      <td>-0.900818</td>\n",
       "      <td>-1.044107</td>\n",
       "      <td>-1.414295</td>\n",
       "      <td>0.125824</td>\n",
       "      <td>1.173033</td>\n",
       "      <td>No</td>\n",
       "      <td>No</td>\n",
       "    </tr>\n",
       "  </tbody>\n",
       "</table>\n",
       "</div>"
      ],
      "text/plain": [
       "         Date Location   MinTemp   MaxTemp  Rainfall WindGustDir  \\\n",
       "0  2008-12-01   Albury  0.190084 -0.046323  0.400000           W   \n",
       "1  2008-12-02   Albury -0.749182  0.263885  0.000000         WNW   \n",
       "2  2008-12-03   Albury  0.111812  0.348487  0.000000         WSW   \n",
       "3  2008-12-04   Albury -0.467402  0.672795  0.000000          NE   \n",
       "4  2008-12-05   Albury  0.831916  1.279110  0.666667           W   \n",
       "\n",
       "   WindGustSpeed WindDir9am WindDir3pm  WindSpeed9am  WindSpeed3pm  \\\n",
       "0       0.360385          W        WNW      0.712937      0.644267   \n",
       "1       0.360385        NNW        WSW     -1.158097      0.407503   \n",
       "2       0.524300          W        WSW      0.595997      0.881031   \n",
       "3      -1.278766         SE          E     -0.339520     -1.131460   \n",
       "4       0.114512        ENE         NW     -0.807278      0.170740   \n",
       "\n",
       "   Humidity9am  Humidity3pm  Pressure9am  Pressure3pm   Temp9am   Temp3pm  \\\n",
       "0     0.111240    -1.436563    -1.514865    -1.246471 -0.013404  0.017781   \n",
       "1    -1.326534    -1.290451    -1.074479    -1.139674  0.033005  0.383367   \n",
       "2    -1.646039    -1.046931    -1.530050    -1.002364  0.620859  0.222509   \n",
       "3    -1.273283    -1.728788    -0.011479    -0.376839  0.172234  0.705083   \n",
       "4     0.697000    -0.900818    -1.044107    -1.414295  0.125824  1.173033   \n",
       "\n",
       "  RainToday RainTomorrow  \n",
       "0        No           No  \n",
       "1        No           No  \n",
       "2        No           No  \n",
       "3        No           No  \n",
       "4        No           No  "
      ]
     },
     "execution_count": 31,
     "metadata": {},
     "output_type": "execute_result"
    }
   ],
   "source": [
    "df2.head()"
   ]
  },
  {
   "cell_type": "markdown",
   "id": "c157ff04-c271-43d1-9631-842a6ae17b7b",
   "metadata": {},
   "source": [
    "Turn the RainToday and RainTomorrow columns into numerical columns (Yes=1, No=0)."
   ]
  },
  {
   "cell_type": "code",
   "execution_count": 32,
   "id": "f0aa4ff6-0a3c-48cd-a7a3-e2d83bdfcce0",
   "metadata": {},
   "outputs": [],
   "source": [
    "df2['RainToday']=df2['RainToday'].apply(lambda x: 1 if x=='Yes' else 0)\n",
    "df2['RainTomorrow']=df2['RainTomorrow'].apply(lambda x: 1 if x=='Yes' else 0)"
   ]
  },
  {
   "cell_type": "code",
   "execution_count": 33,
   "id": "8d84e3c7-abc3-487c-acb3-8cc9da191072",
   "metadata": {},
   "outputs": [
    {
     "data": {
      "text/html": [
       "<div>\n",
       "<style scoped>\n",
       "    .dataframe tbody tr th:only-of-type {\n",
       "        vertical-align: middle;\n",
       "    }\n",
       "\n",
       "    .dataframe tbody tr th {\n",
       "        vertical-align: top;\n",
       "    }\n",
       "\n",
       "    .dataframe thead th {\n",
       "        text-align: right;\n",
       "    }\n",
       "</style>\n",
       "<table border=\"1\" class=\"dataframe\">\n",
       "  <thead>\n",
       "    <tr style=\"text-align: right;\">\n",
       "      <th></th>\n",
       "      <th>Date</th>\n",
       "      <th>Location</th>\n",
       "      <th>MinTemp</th>\n",
       "      <th>MaxTemp</th>\n",
       "      <th>Rainfall</th>\n",
       "      <th>WindGustDir</th>\n",
       "      <th>WindGustSpeed</th>\n",
       "      <th>WindDir9am</th>\n",
       "      <th>WindDir3pm</th>\n",
       "      <th>WindSpeed9am</th>\n",
       "      <th>WindSpeed3pm</th>\n",
       "      <th>Humidity9am</th>\n",
       "      <th>Humidity3pm</th>\n",
       "      <th>Pressure9am</th>\n",
       "      <th>Pressure3pm</th>\n",
       "      <th>Temp9am</th>\n",
       "      <th>Temp3pm</th>\n",
       "      <th>RainToday</th>\n",
       "      <th>RainTomorrow</th>\n",
       "    </tr>\n",
       "  </thead>\n",
       "  <tbody>\n",
       "    <tr>\n",
       "      <th>0</th>\n",
       "      <td>2008-12-01</td>\n",
       "      <td>Albury</td>\n",
       "      <td>0.190084</td>\n",
       "      <td>-0.046323</td>\n",
       "      <td>0.400000</td>\n",
       "      <td>W</td>\n",
       "      <td>0.360385</td>\n",
       "      <td>W</td>\n",
       "      <td>WNW</td>\n",
       "      <td>0.712937</td>\n",
       "      <td>0.644267</td>\n",
       "      <td>0.111240</td>\n",
       "      <td>-1.436563</td>\n",
       "      <td>-1.514865</td>\n",
       "      <td>-1.246471</td>\n",
       "      <td>-0.013404</td>\n",
       "      <td>0.017781</td>\n",
       "      <td>0</td>\n",
       "      <td>0</td>\n",
       "    </tr>\n",
       "    <tr>\n",
       "      <th>1</th>\n",
       "      <td>2008-12-02</td>\n",
       "      <td>Albury</td>\n",
       "      <td>-0.749182</td>\n",
       "      <td>0.263885</td>\n",
       "      <td>0.000000</td>\n",
       "      <td>WNW</td>\n",
       "      <td>0.360385</td>\n",
       "      <td>NNW</td>\n",
       "      <td>WSW</td>\n",
       "      <td>-1.158097</td>\n",
       "      <td>0.407503</td>\n",
       "      <td>-1.326534</td>\n",
       "      <td>-1.290451</td>\n",
       "      <td>-1.074479</td>\n",
       "      <td>-1.139674</td>\n",
       "      <td>0.033005</td>\n",
       "      <td>0.383367</td>\n",
       "      <td>0</td>\n",
       "      <td>0</td>\n",
       "    </tr>\n",
       "    <tr>\n",
       "      <th>2</th>\n",
       "      <td>2008-12-03</td>\n",
       "      <td>Albury</td>\n",
       "      <td>0.111812</td>\n",
       "      <td>0.348487</td>\n",
       "      <td>0.000000</td>\n",
       "      <td>WSW</td>\n",
       "      <td>0.524300</td>\n",
       "      <td>W</td>\n",
       "      <td>WSW</td>\n",
       "      <td>0.595997</td>\n",
       "      <td>0.881031</td>\n",
       "      <td>-1.646039</td>\n",
       "      <td>-1.046931</td>\n",
       "      <td>-1.530050</td>\n",
       "      <td>-1.002364</td>\n",
       "      <td>0.620859</td>\n",
       "      <td>0.222509</td>\n",
       "      <td>0</td>\n",
       "      <td>0</td>\n",
       "    </tr>\n",
       "    <tr>\n",
       "      <th>3</th>\n",
       "      <td>2008-12-04</td>\n",
       "      <td>Albury</td>\n",
       "      <td>-0.467402</td>\n",
       "      <td>0.672795</td>\n",
       "      <td>0.000000</td>\n",
       "      <td>NE</td>\n",
       "      <td>-1.278766</td>\n",
       "      <td>SE</td>\n",
       "      <td>E</td>\n",
       "      <td>-0.339520</td>\n",
       "      <td>-1.131460</td>\n",
       "      <td>-1.273283</td>\n",
       "      <td>-1.728788</td>\n",
       "      <td>-0.011479</td>\n",
       "      <td>-0.376839</td>\n",
       "      <td>0.172234</td>\n",
       "      <td>0.705083</td>\n",
       "      <td>0</td>\n",
       "      <td>0</td>\n",
       "    </tr>\n",
       "    <tr>\n",
       "      <th>4</th>\n",
       "      <td>2008-12-05</td>\n",
       "      <td>Albury</td>\n",
       "      <td>0.831916</td>\n",
       "      <td>1.279110</td>\n",
       "      <td>0.666667</td>\n",
       "      <td>W</td>\n",
       "      <td>0.114512</td>\n",
       "      <td>ENE</td>\n",
       "      <td>NW</td>\n",
       "      <td>-0.807278</td>\n",
       "      <td>0.170740</td>\n",
       "      <td>0.697000</td>\n",
       "      <td>-0.900818</td>\n",
       "      <td>-1.044107</td>\n",
       "      <td>-1.414295</td>\n",
       "      <td>0.125824</td>\n",
       "      <td>1.173033</td>\n",
       "      <td>0</td>\n",
       "      <td>0</td>\n",
       "    </tr>\n",
       "  </tbody>\n",
       "</table>\n",
       "</div>"
      ],
      "text/plain": [
       "         Date Location   MinTemp   MaxTemp  Rainfall WindGustDir  \\\n",
       "0  2008-12-01   Albury  0.190084 -0.046323  0.400000           W   \n",
       "1  2008-12-02   Albury -0.749182  0.263885  0.000000         WNW   \n",
       "2  2008-12-03   Albury  0.111812  0.348487  0.000000         WSW   \n",
       "3  2008-12-04   Albury -0.467402  0.672795  0.000000          NE   \n",
       "4  2008-12-05   Albury  0.831916  1.279110  0.666667           W   \n",
       "\n",
       "   WindGustSpeed WindDir9am WindDir3pm  WindSpeed9am  WindSpeed3pm  \\\n",
       "0       0.360385          W        WNW      0.712937      0.644267   \n",
       "1       0.360385        NNW        WSW     -1.158097      0.407503   \n",
       "2       0.524300          W        WSW      0.595997      0.881031   \n",
       "3      -1.278766         SE          E     -0.339520     -1.131460   \n",
       "4       0.114512        ENE         NW     -0.807278      0.170740   \n",
       "\n",
       "   Humidity9am  Humidity3pm  Pressure9am  Pressure3pm   Temp9am   Temp3pm  \\\n",
       "0     0.111240    -1.436563    -1.514865    -1.246471 -0.013404  0.017781   \n",
       "1    -1.326534    -1.290451    -1.074479    -1.139674  0.033005  0.383367   \n",
       "2    -1.646039    -1.046931    -1.530050    -1.002364  0.620859  0.222509   \n",
       "3    -1.273283    -1.728788    -0.011479    -0.376839  0.172234  0.705083   \n",
       "4     0.697000    -0.900818    -1.044107    -1.414295  0.125824  1.173033   \n",
       "\n",
       "   RainToday  RainTomorrow  \n",
       "0          0             0  \n",
       "1          0             0  \n",
       "2          0             0  \n",
       "3          0             0  \n",
       "4          0             0  "
      ]
     },
     "execution_count": 33,
     "metadata": {},
     "output_type": "execute_result"
    }
   ],
   "source": [
    "df2.head()"
   ]
  },
  {
   "cell_type": "markdown",
   "id": "8eae293e-c185-4bb0-99e3-3f37dcb85b5e",
   "metadata": {},
   "source": [
    "For now, we're just gonna leave the features as it is."
   ]
  },
  {
   "cell_type": "markdown",
   "id": "c6545835-377f-437b-bc58-66ebb15f6f1a",
   "metadata": {},
   "source": [
    "We're going to do some initial feature selection by looking at the correlation heatmap. Features which correlation with the target column <0.1 will be dropped."
   ]
  },
  {
   "cell_type": "code",
   "execution_count": 34,
   "id": "952d9d61-9a2a-4fc4-a4c0-f1e076fbef03",
   "metadata": {},
   "outputs": [
    {
     "data": {
      "text/plain": [
       "<AxesSubplot:>"
      ]
     },
     "execution_count": 34,
     "metadata": {},
     "output_type": "execute_result"
    },
    {
     "data": {
      "image/png": "[encoded data removed]",
      "text/plain": [
       "<Figure size 864x288 with 2 Axes>"
      ]
     },
     "metadata": {
      "needs_background": "light"
     },
     "output_type": "display_data"
    }
   ],
   "source": [
    "sns.heatmap(df2.corr(), annot=True)"
   ]
  },
  {
   "cell_type": "markdown",
   "id": "1d68cf37-c77a-4350-909d-e6fd432b3574",
   "metadata": {},
   "source": [
    "According to the rules above, now we drop the following columns :MinTemp, WindSpeed9am, WindSpeed3am, Temp9am."
   ]
  },
  {
   "cell_type": "code",
   "execution_count": 35,
   "id": "e776e742-f3ac-4392-9d15-8a81d5213ebf",
   "metadata": {},
   "outputs": [],
   "source": [
    "df2.drop(['MinTemp','WindSpeed9am','WindSpeed3pm','Temp9am'], axis=1, inplace=True)"
   ]
  },
  {
   "cell_type": "markdown",
   "id": "2ea1a4d6-46f1-4369-8d3a-6c95ac337d1d",
   "metadata": {},
   "source": [
    "Notice that some features have a high correlation value with another feature. We need to drop one of those highly correlated columns to avoid multicollinearity."
   ]
  },
  {
   "cell_type": "code",
   "execution_count": 36,
   "id": "794b975e-5c2c-4888-8396-d180c4f4d831",
   "metadata": {},
   "outputs": [],
   "source": [
    "df2.drop(['Temp3pm','Rainfall','Pressure9am'], axis=1, inplace=True)"
   ]
  },
  {
   "cell_type": "markdown",
   "id": "f12bdc62-de6c-4ece-94ff-1442956129ab",
   "metadata": {},
   "source": [
    "Next, we're going to encode the categorical columns. Before that, we're going to drop the Location column since it contains too many unique values. We're also going to drop the date column since it doesn't really give us any information."
   ]
  },
  {
   "cell_type": "code",
   "execution_count": 37,
   "id": "5b11c7b8-4f06-4706-a7a0-a5a6ed3e645d",
   "metadata": {},
   "outputs": [],
   "source": [
    "df2.drop(['Date','Location'], axis=1, inplace=True)"
   ]
  },
  {
   "cell_type": "code",
   "execution_count": 38,
   "id": "129f9d7e-d2de-433d-98c8-513d0e7bf84e",
   "metadata": {},
   "outputs": [
    {
     "data": {
      "text/html": [
       "<div>\n",
       "<style scoped>\n",
       "    .dataframe tbody tr th:only-of-type {\n",
       "        vertical-align: middle;\n",
       "    }\n",
       "\n",
       "    .dataframe tbody tr th {\n",
       "        vertical-align: top;\n",
       "    }\n",
       "\n",
       "    .dataframe thead th {\n",
       "        text-align: right;\n",
       "    }\n",
       "</style>\n",
       "<table border=\"1\" class=\"dataframe\">\n",
       "  <thead>\n",
       "    <tr style=\"text-align: right;\">\n",
       "      <th></th>\n",
       "      <th>MaxTemp</th>\n",
       "      <th>WindGustDir</th>\n",
       "      <th>WindGustSpeed</th>\n",
       "      <th>WindDir9am</th>\n",
       "      <th>WindDir3pm</th>\n",
       "      <th>Humidity9am</th>\n",
       "      <th>Humidity3pm</th>\n",
       "      <th>Pressure3pm</th>\n",
       "      <th>RainToday</th>\n",
       "      <th>RainTomorrow</th>\n",
       "    </tr>\n",
       "  </thead>\n",
       "  <tbody>\n",
       "    <tr>\n",
       "      <th>0</th>\n",
       "      <td>-0.046323</td>\n",
       "      <td>W</td>\n",
       "      <td>0.360385</td>\n",
       "      <td>W</td>\n",
       "      <td>WNW</td>\n",
       "      <td>0.111240</td>\n",
       "      <td>-1.436563</td>\n",
       "      <td>-1.246471</td>\n",
       "      <td>0</td>\n",
       "      <td>0</td>\n",
       "    </tr>\n",
       "    <tr>\n",
       "      <th>1</th>\n",
       "      <td>0.263885</td>\n",
       "      <td>WNW</td>\n",
       "      <td>0.360385</td>\n",
       "      <td>NNW</td>\n",
       "      <td>WSW</td>\n",
       "      <td>-1.326534</td>\n",
       "      <td>-1.290451</td>\n",
       "      <td>-1.139674</td>\n",
       "      <td>0</td>\n",
       "      <td>0</td>\n",
       "    </tr>\n",
       "    <tr>\n",
       "      <th>2</th>\n",
       "      <td>0.348487</td>\n",
       "      <td>WSW</td>\n",
       "      <td>0.524300</td>\n",
       "      <td>W</td>\n",
       "      <td>WSW</td>\n",
       "      <td>-1.646039</td>\n",
       "      <td>-1.046931</td>\n",
       "      <td>-1.002364</td>\n",
       "      <td>0</td>\n",
       "      <td>0</td>\n",
       "    </tr>\n",
       "    <tr>\n",
       "      <th>3</th>\n",
       "      <td>0.672795</td>\n",
       "      <td>NE</td>\n",
       "      <td>-1.278766</td>\n",
       "      <td>SE</td>\n",
       "      <td>E</td>\n",
       "      <td>-1.273283</td>\n",
       "      <td>-1.728788</td>\n",
       "      <td>-0.376839</td>\n",
       "      <td>0</td>\n",
       "      <td>0</td>\n",
       "    </tr>\n",
       "    <tr>\n",
       "      <th>4</th>\n",
       "      <td>1.279110</td>\n",
       "      <td>W</td>\n",
       "      <td>0.114512</td>\n",
       "      <td>ENE</td>\n",
       "      <td>NW</td>\n",
       "      <td>0.697000</td>\n",
       "      <td>-0.900818</td>\n",
       "      <td>-1.414295</td>\n",
       "      <td>0</td>\n",
       "      <td>0</td>\n",
       "    </tr>\n",
       "  </tbody>\n",
       "</table>\n",
       "</div>"
      ],
      "text/plain": [
       "    MaxTemp WindGustDir  WindGustSpeed WindDir9am WindDir3pm  Humidity9am  \\\n",
       "0 -0.046323           W       0.360385          W        WNW     0.111240   \n",
       "1  0.263885         WNW       0.360385        NNW        WSW    -1.326534   \n",
       "2  0.348487         WSW       0.524300          W        WSW    -1.646039   \n",
       "3  0.672795          NE      -1.278766         SE          E    -1.273283   \n",
       "4  1.279110           W       0.114512        ENE         NW     0.697000   \n",
       "\n",
       "   Humidity3pm  Pressure3pm  RainToday  RainTomorrow  \n",
       "0    -1.436563    -1.246471          0             0  \n",
       "1    -1.290451    -1.139674          0             0  \n",
       "2    -1.046931    -1.002364          0             0  \n",
       "3    -1.728788    -0.376839          0             0  \n",
       "4    -0.900818    -1.414295          0             0  "
      ]
     },
     "execution_count": 38,
     "metadata": {},
     "output_type": "execute_result"
    }
   ],
   "source": [
    "df2.head()"
   ]
  },
  {
   "cell_type": "markdown",
   "id": "2db45e9c-81a5-41e7-8f9c-de98ccc427d1",
   "metadata": {},
   "source": [
    "One-hot encode the categorical columns."
   ]
  },
  {
   "cell_type": "code",
   "execution_count": 39,
   "id": "c1ed7f12-24a1-492c-b533-b963268e600c",
   "metadata": {},
   "outputs": [],
   "source": [
    "df2=pd.get_dummies(df2, drop_first=True)"
   ]
  },
  {
   "cell_type": "code",
   "execution_count": 40,
   "id": "61e0c9ec-074d-4ca3-a7a4-615b26932bf7",
   "metadata": {},
   "outputs": [
    {
     "data": {
      "text/plain": [
       "(142193, 52)"
      ]
     },
     "execution_count": 40,
     "metadata": {},
     "output_type": "execute_result"
    }
   ],
   "source": [
    "df2.shape"
   ]
  },
  {
   "cell_type": "markdown",
   "id": "197416d8-a4af-4ddf-bc68-ab2636f76a26",
   "metadata": {},
   "source": [
    "### Class Imbalance"
   ]
  },
  {
   "cell_type": "code",
   "execution_count": 41,
   "id": "db331538-d0dc-48ce-9d69-5df8b5146a71",
   "metadata": {},
   "outputs": [
    {
     "data": {
      "text/plain": [
       "0    110316\n",
       "1     31877\n",
       "Name: RainTomorrow, dtype: int64"
      ]
     },
     "execution_count": 41,
     "metadata": {},
     "output_type": "execute_result"
    }
   ],
   "source": [
    "df2['RainTomorrow'].value_counts()"
   ]
  },
  {
   "cell_type": "markdown",
   "id": "aa6869bc-8ef0-4e5c-abfe-1acc46c0d50b",
   "metadata": {},
   "source": [
    "We can see that the classes in target column is heavily imbalanced. We're gonna handle this in 3 ways: Undersampling, Oversampling, and Oversampling using SMOTE. Then we're going to compare the performances of each sampling technique."
   ]
  },
  {
   "cell_type": "code",
   "execution_count": 42,
   "id": "136c6d95-82aa-4080-9cdb-ba0de9684adf",
   "metadata": {},
   "outputs": [],
   "source": [
    "X=df2.drop('RainTomorrow', axis=1)\n",
    "y=df2['RainTomorrow']"
   ]
  },
  {
   "cell_type": "code",
   "execution_count": 43,
   "id": "1c327cf1-02c0-4dbd-aa7d-c9e85c1b98a6",
   "metadata": {},
   "outputs": [],
   "source": [
    "from imblearn import under_sampling, over_sampling\n",
    "\n",
    "X_under, y_under = under_sampling.RandomUnderSampler(random_state=101).fit_resample(X,y)\n",
    "X_over, y_over = over_sampling.RandomOverSampler(random_state=101).fit_resample(X,y)\n",
    "X_smote, y_smote = over_sampling.SMOTE(random_state=101).fit_resample(X,y)"
   ]
  },
  {
   "cell_type": "code",
   "execution_count": 44,
   "id": "38d6d8a9-cecf-47d0-a58a-f34c0186c576",
   "metadata": {},
   "outputs": [
    {
     "name": "stdout",
     "output_type": "stream",
     "text": [
      "Undersampled\n",
      "0    31877\n",
      "1    31877\n",
      "Name: RainTomorrow, dtype: int64\n",
      "Oversampled\n",
      "0    110316\n",
      "1    110316\n",
      "Name: RainTomorrow, dtype: int64\n",
      "SMOTE Oversampled\n",
      "0    110316\n",
      "1    110316\n",
      "Name: RainTomorrow, dtype: int64\n"
     ]
    }
   ],
   "source": [
    "print('Undersampled')\n",
    "print(pd.Series(y_under).value_counts())\n",
    "print('Oversampled')\n",
    "print(pd.Series(y_over).value_counts())\n",
    "print('SMOTE Oversampled')\n",
    "print(pd.Series(y_smote).value_counts())"
   ]
  },
  {
   "cell_type": "markdown",
   "id": "d520acd2-3a83-404b-8a28-973a58246467",
   "metadata": {},
   "source": [
    "## Modeling"
   ]
  },
  {
   "cell_type": "markdown",
   "id": "9bc5e214-b471-4175-a07b-b14c6ca8cb4c",
   "metadata": {},
   "source": [
    "### Import ML Algorithms"
   ]
  },
  {
   "cell_type": "code",
   "execution_count": 45,
   "id": "3657f1ff-43a3-4d17-82d2-359852d5b009",
   "metadata": {},
   "outputs": [],
   "source": [
    "from sklearn.linear_model import LogisticRegression\n",
    "from sklearn.neighbors import KNeighborsClassifier\n",
    "from sklearn.ensemble import RandomForestClassifier\n",
    "from xgboost import XGBClassifier"
   ]
  },
  {
   "cell_type": "code",
   "execution_count": 46,
   "id": "c64abd64-e8cf-4ca8-90c1-0983bcd08aa4",
   "metadata": {},
   "outputs": [],
   "source": [
    "lrc=LogisticRegression()\n",
    "knn=KNeighborsClassifier()\n",
    "rfc=RandomForestClassifier()\n",
    "xgb=XGBClassifier()"
   ]
  },
  {
   "cell_type": "markdown",
   "id": "622eb9fd-dae9-4482-8690-87ad4604040e",
   "metadata": {},
   "source": [
    "### Import RandomizedSearchCV for Hyperparameter Tuning"
   ]
  },
  {
   "cell_type": "code",
   "execution_count": 47,
   "id": "574fc825-f1fc-432e-ad15-961d9e159648",
   "metadata": {},
   "outputs": [],
   "source": [
    "from sklearn.model_selection import  RandomizedSearchCV"
   ]
  },
  {
   "cell_type": "code",
   "execution_count": 48,
   "id": "4dbe497c-4228-4d7f-8109-fd0d2214ef70",
   "metadata": {},
   "outputs": [],
   "source": [
    "from sklearn.metrics import accuracy_score, precision_score, recall_score, f1_score\n",
    "from sklearn.metrics import roc_curve, auc\n",
    "\n",
    "def eval_classification(model, pred, proba, xtrain, ytrain, xtest, ytest):\n",
    "    print(\"Accuracy (Test Set): %.2f\" % accuracy_score(ytest, pred))\n",
    "    print(\"Precision (Test Set): %.2f\" % precision_score(ytest, pred))\n",
    "    print(\"Recall (Test Set): %.2f\" % recall_score(ytest, pred))\n",
    "    print(\"F1-Score (Test Set): %.2f\" % f1_score(ytest, pred))\n",
    "    \n",
    "    fpr, tpr, thresholds = roc_curve(ytest, proba, pos_label=1) # pos_label: label yang kita anggap positive\n",
    "    print(\"AUC: %.2f\" % auc(fpr, tpr))\n",
    "\n",
    "def show_feature_importance(model):\n",
    "    feat_importances = pd.Series(model.feature_importances_, index=X.columns)\n",
    "    ax = feat_importances.nlargest(25).plot(kind='barh', figsize=(10, 8))\n",
    "    ax.invert_yaxis()\n",
    "\n",
    "    plt.xlabel('score')\n",
    "    plt.ylabel('feature')\n",
    "    plt.title('feature importance score')\n",
    "\n",
    "def show_best_hyperparameter(model, hyperparameters):\n",
    "    for key, value in hyperparameters.items() :\n",
    "        print('Best '+key+':', model.get_params()[key])"
   ]
  },
  {
   "cell_type": "markdown",
   "id": "1aff9472-b892-4afe-8f54-201774328e67",
   "metadata": {},
   "source": [
    "#### Undersampled Data"
   ]
  },
  {
   "cell_type": "code",
   "execution_count": 49,
   "id": "95d9458a-01e0-42b0-91f8-2dfb2507f579",
   "metadata": {},
   "outputs": [],
   "source": [
    "from sklearn.model_selection import train_test_split\n",
    "X_train_under, X_test_under,  y_train_under ,y_test_under = train_test_split(X_under, y_under, test_size=0.3, random_state=101)"
   ]
  },
  {
   "cell_type": "code",
   "execution_count": 50,
   "id": "3358734f-80f5-401b-8041-81fa3c531ce1",
   "metadata": {},
   "outputs": [
    {
     "name": "stdout",
     "output_type": "stream",
     "text": [
      "Evaluate model: Logistic\n",
      "Accuracy (Test Set): 0.77\n",
      "Precision (Test Set): 0.77\n",
      "Recall (Test Set): 0.75\n",
      "F1-Score (Test Set): 0.76\n",
      "AUC: 0.85\n",
      "None \n",
      "\n",
      "Evaluate model: KNN\n",
      "Accuracy (Test Set): 0.75\n",
      "Precision (Test Set): 0.76\n",
      "Recall (Test Set): 0.72\n",
      "F1-Score (Test Set): 0.74\n",
      "AUC: 0.81\n",
      "None \n",
      "\n",
      "Evaluate model: RandomForest\n",
      "Accuracy (Test Set): 0.78\n",
      "Precision (Test Set): 0.78\n",
      "Recall (Test Set): 0.76\n",
      "F1-Score (Test Set): 0.77\n",
      "AUC: 0.86\n",
      "None \n",
      "\n",
      "[13:30:52] WARNING: ..\\src\\learner.cc:1061: Starting in XGBoost 1.3.0, the default evaluation metric used with the objective 'binary:logistic' was changed from 'error' to 'logloss'. Explicitly set eval_metric if you'd like to restore the old behavior.\n",
      "Evaluate model: XGBoost\n",
      "Accuracy (Test Set): 0.78\n",
      "Precision (Test Set): 0.78\n",
      "Recall (Test Set): 0.77\n",
      "F1-Score (Test Set): 0.78\n",
      "AUC: 0.86\n",
      "None \n",
      "\n"
     ]
    }
   ],
   "source": [
    "models = {\n",
    "    \"Logistic\"     : LogisticRegression(),\n",
    "    \"KNN\"      : KNeighborsClassifier(),\n",
    "    \"RandomForest\"      : RandomForestClassifier(),\n",
    "    \"XGBoost\" : XGBClassifier()\n",
    "}\n",
    "\n",
    "for model_name, model in models.items():\n",
    "    model.fit(X_train_under, y_train_under)\n",
    "    y_pred = model.predict(X_test_under)\n",
    "    y_proba = model.predict_proba(X_test_under)\n",
    "    y_proba = y_proba[:,1]\n",
    "    print(\"Evaluate model: {}\".format(model_name))\n",
    "    print(eval_classification(model, y_pred, y_proba, X_train_under, y_train_under, X_test_under, y_test_under), \"\\n\")"
   ]
  },
  {
   "cell_type": "markdown",
   "id": "91555140-f57e-4948-bdb4-dee2b7c98c56",
   "metadata": {},
   "source": [
    "We're going to perform an overfitting check on each model."
   ]
  },
  {
   "cell_type": "code",
   "execution_count": 51,
   "id": "be6ae1ef-1352-40d0-97ec-54d5076de291",
   "metadata": {},
   "outputs": [
    {
     "name": "stdout",
     "output_type": "stream",
     "text": [
      "Overfitting check: Logistic\n",
      "Train score 0.7714388150671119\n",
      "Test score 0.7670308987295447\n",
      "Overfitting check: KNN\n",
      "Train score 0.8298563649808411\n",
      "Test score 0.7456997960997542\n",
      "Overfitting check: RandomForest\n",
      "Train score 0.9998879602034643\n",
      "Test score 0.7779578606158833\n",
      "Overfitting check: XGBoost\n",
      "Train score 0.836578752772985\n",
      "Test score 0.7792126313588121\n"
     ]
    }
   ],
   "source": [
    "for model_name, model in models.items():\n",
    "    print(\"Overfitting check: {}\".format(model_name))\n",
    "    print('Train score {}'.format(model.score(X_train_under, y_train_under)))\n",
    "    print('Test score {}'.format(model.score(X_test_under, y_test_under)))"
   ]
  },
  {
   "cell_type": "markdown",
   "id": "c2b6bd2d-d090-4dad-8f94-f36aae88ce50",
   "metadata": {},
   "source": [
    "So from the undersampled data, the recommended model is <b>XGBoost</b> with <b>auc score = 0.86</b>. Random forest performed is a close second but the model is overfitting."
   ]
  },
  {
   "cell_type": "markdown",
   "id": "c426ee1f-d8f6-4a78-b62f-f13ecd57bbe2",
   "metadata": {},
   "source": [
    "#### Oversampled Data"
   ]
  },
  {
   "cell_type": "code",
   "execution_count": 52,
   "id": "8402ab16-4c6c-440c-aeb0-dd69cfd2b8ac",
   "metadata": {},
   "outputs": [],
   "source": [
    "X_train_over, X_test_over,  y_train_over ,y_test_over = train_test_split(X_over, y_over, test_size=0.3, random_state=101)"
   ]
  },
  {
   "cell_type": "code",
   "execution_count": 53,
   "id": "16166c92-69e7-4a4c-ac83-dc7149f43161",
   "metadata": {},
   "outputs": [
    {
     "name": "stdout",
     "output_type": "stream",
     "text": [
      "Evaluate model: Logistic\n",
      "Accuracy (Test Set): 0.77\n",
      "Precision (Test Set): 0.78\n",
      "Recall (Test Set): 0.76\n",
      "F1-Score (Test Set): 0.77\n",
      "AUC: 0.85\n",
      "None \n",
      "\n",
      "Evaluate model: KNN\n",
      "Accuracy (Test Set): 0.80\n",
      "Precision (Test Set): 0.78\n",
      "Recall (Test Set): 0.85\n",
      "F1-Score (Test Set): 0.81\n",
      "AUC: 0.88\n",
      "None \n",
      "\n",
      "Evaluate model: RandomForest\n",
      "Accuracy (Test Set): 0.93\n",
      "Precision (Test Set): 0.90\n",
      "Recall (Test Set): 0.97\n",
      "F1-Score (Test Set): 0.93\n",
      "AUC: 0.98\n",
      "None \n",
      "\n",
      "[13:46:52] WARNING: ..\\src\\learner.cc:1061: Starting in XGBoost 1.3.0, the default evaluation metric used with the objective 'binary:logistic' was changed from 'error' to 'logloss'. Explicitly set eval_metric if you'd like to restore the old behavior.\n",
      "Evaluate model: XGBoost\n",
      "Accuracy (Test Set): 0.81\n",
      "Precision (Test Set): 0.81\n",
      "Recall (Test Set): 0.81\n",
      "F1-Score (Test Set): 0.81\n",
      "AUC: 0.89\n",
      "None \n",
      "\n"
     ]
    }
   ],
   "source": [
    "models = {\n",
    "    \"Logistic\"     : LogisticRegression(),\n",
    "    \"KNN\"      : KNeighborsClassifier(),\n",
    "    \"RandomForest\"      : RandomForestClassifier(),\n",
    "    \"XGBoost\" : XGBClassifier()\n",
    "}\n",
    "\n",
    "for model_name, model in models.items():\n",
    "    model.fit(X_train_over, y_train_over)\n",
    "    y_pred = model.predict(X_test_over)\n",
    "    y_proba = model.predict_proba(X_test_over)\n",
    "    y_proba = y_proba[:,1]\n",
    "    print(\"Evaluate model: {}\".format(model_name))\n",
    "    print(eval_classification(model, y_pred, y_proba, X_train_over, y_train_over, X_test_over, y_test_over), \"\\n\")"
   ]
  },
  {
   "cell_type": "markdown",
   "id": "dc10c5bb-5e97-4a89-9770-4c1fc7c0e85d",
   "metadata": {},
   "source": [
    "Overfitting check."
   ]
  },
  {
   "cell_type": "code",
   "execution_count": 54,
   "id": "bf79ef67-58cc-4db7-a8fc-5f03f96f5c41",
   "metadata": {},
   "outputs": [
    {
     "name": "stdout",
     "output_type": "stream",
     "text": [
      "Overfitting check: Logistic\n",
      "Train score 0.769214332888722\n",
      "Test score 0.7680465327088684\n",
      "Overfitting check: KNN\n",
      "Train score 0.8738879320392121\n",
      "Test score 0.8045626227526816\n",
      "Overfitting check: RandomForest\n",
      "Train score 0.9998510767796325\n",
      "Test score 0.9321951956488895\n",
      "Overfitting check: XGBoost\n",
      "Train score 0.825630333717512\n",
      "Test score 0.8068439341290226\n"
     ]
    }
   ],
   "source": [
    "for model_name, model in models.items():\n",
    "    print(\"Overfitting check: {}\".format(model_name))\n",
    "    print('Train score {}'.format(model.score(X_train_over, y_train_over)))\n",
    "    print('Test score {}'.format(model.score(X_test_over, y_test_over)))"
   ]
  },
  {
   "cell_type": "markdown",
   "id": "2e92ae14-c691-4f4a-93b1-0d8208e59eff",
   "metadata": {},
   "source": [
    "For the undersampled data, the recommended model is <b>Random Forest</b> with <b>auc score 0.98</b>."
   ]
  },
  {
   "cell_type": "markdown",
   "id": "5eaeb239-cbd8-4253-88ce-9b428bd23837",
   "metadata": {},
   "source": [
    "#### SMOTE Oversampled Data"
   ]
  },
  {
   "cell_type": "code",
   "execution_count": 55,
   "id": "33658b30-dde4-4c26-9849-2c0f04606601",
   "metadata": {},
   "outputs": [],
   "source": [
    "X_train_smote, X_test_smote,  y_train_smote ,y_test_smote = train_test_split(X_smote, y_smote, test_size=0.3, random_state=101)"
   ]
  },
  {
   "cell_type": "code",
   "execution_count": 56,
   "id": "f83f56f1-cec8-4bcf-9b69-0275d746fdd1",
   "metadata": {},
   "outputs": [
    {
     "name": "stdout",
     "output_type": "stream",
     "text": [
      "Evaluate model: Logistic\n",
      "Accuracy (Test Set): 0.79\n",
      "Precision (Test Set): 0.80\n",
      "Recall (Test Set): 0.78\n",
      "F1-Score (Test Set): 0.79\n",
      "AUC: 0.87\n",
      "None \n",
      "\n",
      "Evaluate model: KNN\n",
      "Accuracy (Test Set): 0.83\n",
      "Precision (Test Set): 0.78\n",
      "Recall (Test Set): 0.92\n",
      "F1-Score (Test Set): 0.84\n",
      "AUC: 0.91\n",
      "None \n",
      "\n",
      "Evaluate model: RandomForest\n",
      "Accuracy (Test Set): 0.88\n",
      "Precision (Test Set): 0.88\n",
      "Recall (Test Set): 0.90\n",
      "F1-Score (Test Set): 0.89\n",
      "AUC: 0.95\n",
      "None \n",
      "\n",
      "[14:25:45] WARNING: ..\\src\\learner.cc:1061: Starting in XGBoost 1.3.0, the default evaluation metric used with the objective 'binary:logistic' was changed from 'error' to 'logloss'. Explicitly set eval_metric if you'd like to restore the old behavior.\n",
      "Evaluate model: XGBoost\n",
      "Accuracy (Test Set): 0.89\n",
      "Precision (Test Set): 0.92\n",
      "Recall (Test Set): 0.86\n",
      "F1-Score (Test Set): 0.89\n",
      "AUC: 0.96\n",
      "None \n",
      "\n"
     ]
    }
   ],
   "source": [
    "models = {\n",
    "    \"Logistic\"     : LogisticRegression(),\n",
    "    \"KNN\"      : KNeighborsClassifier(),\n",
    "    \"RandomForest\"      : RandomForestClassifier(),\n",
    "    \"XGBoost\" : XGBClassifier()\n",
    "}\n",
    "\n",
    "for model_name, model in models.items():\n",
    "    model.fit(X_train_smote, y_train_smote)\n",
    "    y_pred = model.predict(X_test_smote)\n",
    "    y_proba = model.predict_proba(X_test_smote)\n",
    "    y_proba = y_proba[:,1]\n",
    "    print(\"Evaluate model: {}\".format(model_name))\n",
    "    print(eval_classification(model, y_pred, y_proba, X_train_smote, y_train_smote, X_test_smote, y_test_smote), \"\\n\")"
   ]
  },
  {
   "cell_type": "markdown",
   "id": "ae1f9ad0-802d-405b-af68-c05da129c171",
   "metadata": {},
   "source": [
    "Overfitting check."
   ]
  },
  {
   "cell_type": "code",
   "execution_count": 58,
   "id": "89967ab0-5140-4a02-bddf-b4f1dda4720f",
   "metadata": {},
   "outputs": [
    {
     "name": "stdout",
     "output_type": "stream",
     "text": [
      "Overfitting check: Logistic\n",
      "Train score 0.7899340852876808\n",
      "Test score 0.7895301405046079\n",
      "Overfitting check: KNN\n",
      "Train score 0.884895300501159\n",
      "Test score 0.8300951805408672\n",
      "Overfitting check: RandomForest\n",
      "Train score 0.9998769764701312\n",
      "Test score 0.8836380117842575\n",
      "Overfitting check: XGBoost\n",
      "Train score 0.9039833723986999\n",
      "Test score 0.8912826710983532\n"
     ]
    }
   ],
   "source": [
    "for model_name, model in models.items():\n",
    "    print(\"Overfitting check: {}\".format(model_name))\n",
    "    print('Train score {}'.format(model.score(X_train_smote, y_train_smote)))\n",
    "    print('Test score {}'.format(model.score(X_test_smote, y_test_smote)))"
   ]
  },
  {
   "cell_type": "markdown",
   "id": "e831d6e4-f5e3-442a-bc64-a8580cbfe0c0",
   "metadata": {},
   "source": [
    "### Best Model"
   ]
  },
  {
   "cell_type": "markdown",
   "id": "0c10e2b6-1099-4c8d-b869-3267a69a4678",
   "metadata": {},
   "source": [
    "Based on modeling performance above, the best model is <b> Random Forest</b> with <b>oversampled data</b>."
   ]
  }
 ],
 "metadata": {
  "kernelspec": {
   "display_name": "Python 3 (ipykernel)",
   "language": "python",
   "name": "python3"
  },
  "language_info": {
   "codemirror_mode": {
    "name": "ipython",
    "version": 3
   },
   "file_extension": ".py",
   "mimetype": "text/x-python",
   "name": "python",
   "nbconvert_exporter": "python",
   "pygments_lexer": "ipython3",
   "version": "3.8.11"
  }
 },
 "nbformat": 4,
 "nbformat_minor": 5
}
